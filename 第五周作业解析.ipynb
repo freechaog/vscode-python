{
 "cells": [
  {
   "cell_type": "markdown",
   "metadata": {},
   "source": [
    "## base64解码"
   ]
  },
  {
   "cell_type": "markdown",
   "metadata": {},
   "source": [
    "3个字节(24位)一组， 每6位一组编码\n",
    "\n",
    "24位一组， 每8位(1字节)一组解码"
   ]
  },
  {
   "cell_type": "code",
   "execution_count": 1,
   "metadata": {
    "collapsed": true
   },
   "outputs": [],
   "source": [
    "e = 'YWJjZA=='"
   ]
  },
  {
   "cell_type": "code",
   "execution_count": 2,
   "metadata": {
    "collapsed": true
   },
   "outputs": [],
   "source": [
    "table = 'ABCDEFGHIJKLMNOPQRSTUVWXYZabcdefghijklmnopqrstuvwxyz0123456789+/'"
   ]
  },
  {
   "cell_type": "code",
   "execution_count": 3,
   "metadata": {
    "collapsed": false
   },
   "outputs": [
    {
     "data": {
      "text/plain": [
       "24"
      ]
     },
     "execution_count": 3,
     "metadata": {},
     "output_type": "execute_result"
    }
   ],
   "source": [
    "table.index('Y')"
   ]
  },
  {
   "cell_type": "code",
   "execution_count": 4,
   "metadata": {
    "collapsed": false
   },
   "outputs": [
    {
     "data": {
      "text/plain": [
       "22"
      ]
     },
     "execution_count": 4,
     "metadata": {},
     "output_type": "execute_result"
    }
   ],
   "source": [
    "table.index('W')"
   ]
  },
  {
   "cell_type": "code",
   "execution_count": 5,
   "metadata": {
    "collapsed": false
   },
   "outputs": [
    {
     "data": {
      "text/plain": [
       "9"
      ]
     },
     "execution_count": 5,
     "metadata": {},
     "output_type": "execute_result"
    }
   ],
   "source": [
    "table.index('J')"
   ]
  },
  {
   "cell_type": "code",
   "execution_count": 6,
   "metadata": {
    "collapsed": false
   },
   "outputs": [
    {
     "data": {
      "text/plain": [
       "35"
      ]
     },
     "execution_count": 6,
     "metadata": {},
     "output_type": "execute_result"
    }
   ],
   "source": [
    "table.index('j')"
   ]
  },
  {
   "cell_type": "code",
   "execution_count": 9,
   "metadata": {
    "collapsed": false
   },
   "outputs": [],
   "source": [
    "tmp = (35 << 0) + (9 << 6) + (22 << 12) + (24 << 18)"
   ]
  },
  {
   "cell_type": "code",
   "execution_count": 17,
   "metadata": {
    "collapsed": false
   },
   "outputs": [
    {
     "data": {
      "text/plain": [
       "b'cba'"
      ]
     },
     "execution_count": 17,
     "metadata": {},
     "output_type": "execute_result"
    }
   ],
   "source": [
    "tmp.to_bytes(3, 'little')"
   ]
  },
  {
   "cell_type": "code",
   "execution_count": 15,
   "metadata": {
    "collapsed": true
   },
   "outputs": [],
   "source": [
    "def b64decode(data:str) -> bytes:\n",
    "    table = 'ABCDEFGHIJKLMNOPQRSTUVWXYZabcdefghijklmnopqrstuvwxyz0123456789+/'\n",
    "    decoded = bytearray()\n",
    "    s = 0\n",
    "    for e in range(4, len(data)+1, 4):\n",
    "        tmp = 0\n",
    "        for i, c in enumerate(data[s:e]):\n",
    "            if c != '=':\n",
    "                tmp += table.index(c) << 24 - (i+1) * 6\n",
    "            else:\n",
    "                tmp += 0 << 24 - (i+1) * 6\n",
    "        decoded.extend(tmp.to_bytes(3, 'big'))\n",
    "        s += 4\n",
    "    return bytes(decoded.rstrip(b'\\x00'))"
   ]
  },
  {
   "cell_type": "code",
   "execution_count": 16,
   "metadata": {
    "collapsed": false
   },
   "outputs": [
    {
     "data": {
      "text/plain": [
       "b'abcd'"
      ]
     },
     "execution_count": 16,
     "metadata": {},
     "output_type": "execute_result"
    }
   ],
   "source": [
    "b64decode(e)"
   ]
  },
  {
   "cell_type": "markdown",
   "metadata": {},
   "source": [
    "## 带过期的LRU缓存装饰器"
   ]
  },
  {
   "cell_type": "markdown",
   "metadata": {},
   "source": [
    "LRU"
   ]
  },
  {
   "cell_type": "markdown",
   "metadata": {},
   "source": [
    "* FIFO： 先进先出\n",
    "* LFU: 最近最少使用      计数\n",
    "* LRU：最近最久未使用    计时"
   ]
  },
  {
   "cell_type": "markdown",
   "metadata": {},
   "source": [
    "value里加一个最后一次使用的时间戳"
   ]
  },
  {
   "cell_type": "code",
   "execution_count": 20,
   "metadata": {
    "collapsed": false
   },
   "outputs": [],
   "source": [
    "import inspect\n",
    "import functools\n",
    "import datetime\n",
    "\n",
    "\n",
    "def cache(maxsize=128, expire=0):\n",
    "    def make_key(fn, args, kwargs):\n",
    "        ret = []\n",
    "        names = set()\n",
    "        params = inspect.signature(fn).parameters\n",
    "        keys = list(params.keys())\n",
    "        for i, arg in enumerate(args):\n",
    "            ret.append((keys[i], arg))\n",
    "            names.add(keys[i])\n",
    "        ret.extend(kwargs.items())\n",
    "        names.update(kwargs.keys())\n",
    "        for k, v in params.items():\n",
    "            if k not in names:\n",
    "                ret.append((k, v.default))\n",
    "        ret.sort(key=lambda x: x[0])\n",
    "        return '&'.join(['{}={}'.format(name, arg) for name, arg in ret])\n",
    "    \n",
    "    def _cache(fn):\n",
    "        data = {}\n",
    "        @functools.wraps(fn)\n",
    "        def wrap(*args, **kwargs):\n",
    "            key = make_key(fn, args, kwargs)\n",
    "            now = datetime.datetime.now().timestamp()\n",
    "            if key in data.keys():\n",
    "                value, timestamp, _ = data[key]\n",
    "                if expire == 0 or now - timestamp < expire:\n",
    "                    data[key] = (value, timestamp, now)\n",
    "                    return value\n",
    "                else:\n",
    "                    data.pop(key)\n",
    "            value = fn(*args, **kwargs)\n",
    "            if len(data) >= maxsize: \n",
    "                # 过期清理\n",
    "                if expire != 0:\n",
    "                    expires = set()\n",
    "                    for k, (_, timestamp, _) in data.items():\n",
    "                        if now - timestamp >= expire:\n",
    "                            expires.add(k)\n",
    "                    for k in expires:\n",
    "                        data.pop(k)\n",
    "            if len(data) >= maxsize:\n",
    "                # 换出\n",
    "                k = sorted(data.items(), key=lambda x: x[1][2])[0][0]\n",
    "                data.pop(k)\n",
    "            data[key] = (value, now, now)\n",
    "            return value\n",
    "        return wrap\n",
    "    return _cache"
   ]
  },
  {
   "cell_type": "code",
   "execution_count": 22,
   "metadata": {
    "collapsed": true
   },
   "outputs": [],
   "source": [
    "import inspect\n",
    "import functools\n",
    "import datetime\n",
    "\n",
    "\n",
    "def cache(maxsize=128, expire=0):\n",
    "    def make_key(fn, args, kwargs):\n",
    "        ret = []\n",
    "        names = set()\n",
    "        params = inspect.signature(fn).parameters\n",
    "        keys = list(params.keys())\n",
    "        for i, arg in enumerate(args):\n",
    "            ret.append((keys[i], arg))\n",
    "            names.add(keys[i])\n",
    "        ret.extend(kwargs.items())\n",
    "        names.update(kwargs.keys())\n",
    "        for k, v in params.items():\n",
    "            if k not in names:\n",
    "                ret.append((k, v.default))\n",
    "        ret.sort(key=lambda x: x[0])\n",
    "        return '&'.join(['{}={}'.format(name, arg) for name, arg in ret])\n",
    "    \n",
    "    def _cache(fn):\n",
    "        data = {}\n",
    "        queue = []\n",
    "        @functools.wraps(fn)\n",
    "        def wrap(*args, **kwargs):\n",
    "            key = make_key(fn, args, kwargs)\n",
    "            now = datetime.datetime.now().timestamp()\n",
    "            if key in data.keys():\n",
    "                value, timestamp = data[key]\n",
    "                queue.remove(key)\n",
    "                if expire == 0 or now - timestamp < expire:\n",
    "                    queue.insert(0, key)\n",
    "                    return value\n",
    "                else:\n",
    "                    data.pop(key)\n",
    "            value = fn(*args, **kwargs)\n",
    "            if len(data) >= maxsize: \n",
    "                # 过期清理\n",
    "                if expire != 0:\n",
    "                    expires = set()\n",
    "                    for k, (_, timestamp, _) in data.items():\n",
    "                        if now - timestamp >= expire:\n",
    "                            expires.add(k)\n",
    "                    for k in expires:\n",
    "                        queue.remove(k)\n",
    "                        data.pop(k)\n",
    "            if len(data) >= maxsize:\n",
    "                # 换出\n",
    "                #k = sorted(data.items(), key=lambda x: x[1][2])[0][0]\n",
    "                k = queue.pop()\n",
    "                data.pop(k)\n",
    "            data[key] = (value, now)\n",
    "            queue.insert(0, key)\n",
    "            return value\n",
    "        return wrap\n",
    "    return _cache"
   ]
  },
  {
   "cell_type": "code",
   "execution_count": 23,
   "metadata": {
    "collapsed": true
   },
   "outputs": [],
   "source": [
    "from collections import namedtuple"
   ]
  },
  {
   "cell_type": "code",
   "execution_count": 42,
   "metadata": {
    "collapsed": true
   },
   "outputs": [],
   "source": [
    "Node = {'data': '', 'prev': '', 'next': ''}"
   ]
  },
  {
   "cell_type": "code",
   "execution_count": 62,
   "metadata": {
    "collapsed": true
   },
   "outputs": [],
   "source": [
    "Item = namedtuple('Item', ['key', 'value', 'timestamp'])"
   ]
  },
  {
   "cell_type": "code",
   "execution_count": 53,
   "metadata": {
    "collapsed": true
   },
   "outputs": [],
   "source": [
    "def linked_list():\n",
    "    _head = None\n",
    "    _tail = None\n",
    "    \n",
    "    def put(item):\n",
    "        nonlocal _head\n",
    "        nonlocal _tail\n",
    "        if _head is None:\n",
    "            _head = [item, None, None]\n",
    "        else:\n",
    "            node = [item, None, _head]\n",
    "            _head[1] = node\n",
    "            _head = node\n",
    "        if _tail is None:\n",
    "            _tail = _head\n",
    "        return _head\n",
    "    \n",
    "    def pop():\n",
    "        nonlocal _tail\n",
    "        if _tail is None:\n",
    "            _head = None\n",
    "            return None\n",
    "        node = _tail\n",
    "        _tail = node[1]\n",
    "        return node\n",
    "    \n",
    "    def remove(node):\n",
    "        nonlocal _head\n",
    "        nonlocal _tail\n",
    "        if node is _head:\n",
    "            _head = node[2]\n",
    "        if node is _tail:\n",
    "            pop()\n",
    "            return\n",
    "        node[1][2] = node[2]\n",
    "        node[2][1] = node[1]\n",
    "    \n",
    "    return put, pop, remove\n",
    "        \n",
    "        "
   ]
  },
  {
   "cell_type": "code",
   "execution_count": 64,
   "metadata": {
    "collapsed": true
   },
   "outputs": [],
   "source": [
    "def linked_list():\n",
    "    _head = None\n",
    "    _tail = None\n",
    "    \n",
    "    def put(item):\n",
    "        nonlocal _head\n",
    "        nonlocal _tail\n",
    "        if _head is None:\n",
    "            _head = {'data': item, 'prev': None, 'next': None}\n",
    "        else:\n",
    "            node = {'data': item, 'prev': None, 'next': _head}\n",
    "            _head['prev'] = node\n",
    "            _head = node\n",
    "        if _tail is None:\n",
    "            _tail = _head\n",
    "        return _head\n",
    "    \n",
    "    def pop():\n",
    "        nonlocal _tail\n",
    "        if _tail is None:\n",
    "            _head = None\n",
    "            return None\n",
    "        node = _tail\n",
    "        _tail = node['prev']\n",
    "        return node\n",
    "    \n",
    "    def remove(node):\n",
    "        nonlocal _head\n",
    "        nonlocal _tail\n",
    "        if node is _head:\n",
    "            _head = node['next']\n",
    "        if node is _tail:\n",
    "            pop()\n",
    "            return\n",
    "        node['prev']['next'] = node['next']\n",
    "        node['next']['prev'] = node['prev']\n",
    "    \n",
    "    return put, pop, remove"
   ]
  },
  {
   "cell_type": "code",
   "execution_count": 65,
   "metadata": {
    "collapsed": true
   },
   "outputs": [],
   "source": [
    "import inspect\n",
    "import functools\n",
    "import datetime\n",
    "\n",
    "\n",
    "def cache(maxsize=128, expire=0):\n",
    "    def make_key(fn, args, kwargs):\n",
    "        ret = []\n",
    "        names = set()\n",
    "        params = inspect.signature(fn).parameters\n",
    "        keys = list(params.keys())\n",
    "        for i, arg in enumerate(args):\n",
    "            ret.append((keys[i], arg))\n",
    "            names.add(keys[i])\n",
    "        ret.extend(kwargs.items())\n",
    "        names.update(kwargs.keys())\n",
    "        for k, v in params.items():\n",
    "            if k not in names:\n",
    "                ret.append((k, v.default))\n",
    "        ret.sort(key=lambda x: x[0])\n",
    "        return '&'.join(['{}={}'.format(name, arg) for name, arg in ret])\n",
    "    \n",
    "    def _cache(fn):\n",
    "        data = {}\n",
    "        put, pop, remove = linked_list()\n",
    "        @functools.wraps(fn)\n",
    "        def wrap(*args, **kwargs):\n",
    "            key = make_key(fn, args, kwargs)\n",
    "            now = datetime.datetime.now().timestamp()\n",
    "            if key in data.keys():\n",
    "                node = data[key]\n",
    "                item = node['data']\n",
    "                remove(node)\n",
    "                if expire == 0 or now - item.timestamp < expire:\n",
    "                    data[key] = put(item)\n",
    "                    return value\n",
    "                else:\n",
    "                    data.pop(key)\n",
    "            value = fn(*args, **kwargs)\n",
    "            if len(data) >= maxsize: \n",
    "                # 过期清理\n",
    "                if expire != 0:\n",
    "                    expires = set()\n",
    "                    for k, node in data.items():\n",
    "                        if now - node['data'].timestamp >= expire:\n",
    "                            pop(node)\n",
    "                            expires.add(k)\n",
    "                    for k in expires:\n",
    "                        data.pop(k)\n",
    "            if len(data) >= maxsize:\n",
    "                # 换出\n",
    "                #k = sorted(data.items(), key=lambda x: x[1][2])[0][0]\n",
    "                node = pop()\n",
    "                data.pop(node['data'].key)\n",
    "            node = put(Item(key, value, now))\n",
    "            data[key] = node\n",
    "            return value\n",
    "        return wrap\n",
    "    return _cache"
   ]
  },
  {
   "cell_type": "markdown",
   "metadata": {},
   "source": [
    "## 命令分发器"
   ]
  },
  {
   "cell_type": "code",
   "execution_count": 98,
   "metadata": {
    "collapsed": false
   },
   "outputs": [],
   "source": [
    "import inspect\n",
    "from collections import namedtuple\n",
    "\n",
    "\n",
    "def dispatcher(default_handler=None):\n",
    "    Handler = namedtuple('Handler', ['fn', 'params'])\n",
    "    \n",
    "    commands = {}\n",
    "    if default_handler is None:\n",
    "        default_handler = lambda *args, **kwargs: print('not found')\n",
    "    \n",
    "    def register(command):\n",
    "        def _register(fn):\n",
    "            params = inspect.signature(fn).parameters\n",
    "            commands[command] = Handler(fn, params)\n",
    "            return fn\n",
    "        return _register\n",
    "    \n",
    "    def run():\n",
    "        while True:\n",
    "            command, _, params = input('>>').partition(':')\n",
    "            # command:x,y,z=1\n",
    "            if command.strip() == 'quit':\n",
    "                return\n",
    "            handler = commands.get(command.strip(), Handler(default_handler, {}))\n",
    "            \n",
    "            args = []\n",
    "            kwargs = {}\n",
    "            param_values = list(handler.params.values())\n",
    "            for i, param in enumerate(params.split(',')):\n",
    "                if '=' in param:\n",
    "                    name, _, value = param.partition('=')\n",
    "                    p = handler.params.get(name.strip())\n",
    "                    if p is not None and p.annotation != inspect.Parameter.empty:\n",
    "                        kwargs[name.strip()] = p.annotation(value)\n",
    "                    else:\n",
    "                        kwargs[name.strip()] = value\n",
    "                else:\n",
    "                    if len(param_values) > i and  param_values[i].annotation != inspect.Parameter.empty:\n",
    "                        args.append(param_values[i].annotation(param.strip()))\n",
    "                    else:\n",
    "                        args.append(param.strip())\n",
    "            ret = handler.fn(*args, **kwargs)\n",
    "            if ret is not None:\n",
    "                print(ret)\n",
    "    \n",
    "    return register, run\n",
    "            "
   ]
  },
  {
   "cell_type": "code",
   "execution_count": 99,
   "metadata": {
    "collapsed": false
   },
   "outputs": [],
   "source": [
    "register, run = dispatcher()"
   ]
  },
  {
   "cell_type": "code",
   "execution_count": 100,
   "metadata": {
    "collapsed": true
   },
   "outputs": [],
   "source": [
    "@register('add')\n",
    "def add(x: int, y:int):\n",
    "    return x + y"
   ]
  },
  {
   "cell_type": "code",
   "execution_count": 101,
   "metadata": {
    "collapsed": false
   },
   "outputs": [
    {
     "name": "stdout",
     "output_type": "stream",
     "text": [
      ">>add:x=3,y=5\n",
      "8\n",
      ">>add:3,y=5\n",
      "8\n",
      ">>quit\n"
     ]
    }
   ],
   "source": [
    "run()"
   ]
  },
  {
   "cell_type": "markdown",
   "metadata": {},
   "source": [
    "## 优先队列"
   ]
  },
  {
   "cell_type": "code",
   "execution_count": 102,
   "metadata": {
    "collapsed": true
   },
   "outputs": [],
   "source": [
    "queue = []"
   ]
  },
  {
   "cell_type": "code",
   "execution_count": 118,
   "metadata": {
    "collapsed": true
   },
   "outputs": [],
   "source": [
    "def queue(): # O(n)\n",
    "    lst = []\n",
    "    \n",
    "    def put(value, p): # O(n)\n",
    "        for i, item in enumerate(lst):\n",
    "            if item[1] <= p:\n",
    "                lst.insert(i, (value, p))\n",
    "                break\n",
    "        else:\n",
    "            lst.append((value, p))\n",
    "    \n",
    "    def pop(): # O(1)\n",
    "        if lst:\n",
    "            return lst.pop()[0]\n",
    "        return None\n",
    "    \n",
    "    return put, pop"
   ]
  },
  {
   "cell_type": "code",
   "execution_count": 111,
   "metadata": {
    "collapsed": false
   },
   "outputs": [],
   "source": [
    "put, pop = queue() "
   ]
  },
  {
   "cell_type": "code",
   "execution_count": 114,
   "metadata": {
    "collapsed": false
   },
   "outputs": [],
   "source": [
    "put(2, 3)"
   ]
  },
  {
   "cell_type": "code",
   "execution_count": 115,
   "metadata": {
    "collapsed": false
   },
   "outputs": [
    {
     "data": {
      "text/plain": [
       "5"
      ]
     },
     "execution_count": 115,
     "metadata": {},
     "output_type": "execute_result"
    }
   ],
   "source": [
    "pop()"
   ]
  },
  {
   "cell_type": "code",
   "execution_count": 116,
   "metadata": {
    "collapsed": false
   },
   "outputs": [
    {
     "data": {
      "text/plain": [
       "2"
      ]
     },
     "execution_count": 116,
     "metadata": {},
     "output_type": "execute_result"
    }
   ],
   "source": [
    "pop()"
   ]
  },
  {
   "cell_type": "code",
   "execution_count": 117,
   "metadata": {
    "collapsed": false
   },
   "outputs": [
    {
     "data": {
      "text/plain": [
       "3"
      ]
     },
     "execution_count": 117,
     "metadata": {},
     "output_type": "execute_result"
    }
   ],
   "source": [
    "pop()"
   ]
  },
  {
   "cell_type": "markdown",
   "metadata": {},
   "source": [
    "heap"
   ]
  },
  {
   "cell_type": "markdown",
   "metadata": {},
   "source": [
    "* heap 是完全二叉树\n",
    "* 父节点总是比子节点大(小)"
   ]
  },
  {
   "cell_type": "markdown",
   "metadata": {},
   "source": [
    "* 完全二叉树可以使用列表表示\n",
    "* data[0] 是根节点\n",
    "* data[i].left = data[2i+1]\n",
    "* data[i].right = data[2i+2]\n",
    "* data[i].parent = data[floor((i-1)/2)]"
   ]
  },
  {
   "cell_type": "code",
   "execution_count": 140,
   "metadata": {
    "collapsed": true
   },
   "outputs": [],
   "source": [
    "def heap():\n",
    "    data = []\n",
    "    \n",
    "    def put(value, p):\n",
    "        i = len(data)\n",
    "        data.append((value, p))\n",
    "        pi = (i-1) // 2\n",
    "        while pi >= 0 and p > data[pi][1]:\n",
    "            data[i], data[pi] = data[pi], data[i]\n",
    "            i = pi\n",
    "            pi = (i-1) // 2\n",
    "    \n",
    "    def pop():\n",
    "        if not data:\n",
    "            return None\n",
    "        if len(data) == 1:\n",
    "            return data[0][0]\n",
    "        i = 0\n",
    "        ret = data[i][0]\n",
    "        data[i] = data.pop()\n",
    "        li = 2 * i + 1\n",
    "        ri = 2 * i + 2\n",
    "        while data and li < len(data):\n",
    "            ci = li\n",
    "            if ri < len(data) and data[ri][1] > data[li][1]:\n",
    "                ci = ri\n",
    "            if data[ci][1] > data[i][1]:\n",
    "                data[ci], data[i] = data[i], data[ci]\n",
    "                i = ci\n",
    "                li = 2 * i + 1\n",
    "                ri = 2 * i + 2\n",
    "            else:\n",
    "                break\n",
    "        return ret\n",
    "    \n",
    "    return put, pop"
   ]
  },
  {
   "cell_type": "code",
   "execution_count": 127,
   "metadata": {
    "collapsed": true
   },
   "outputs": [],
   "source": [
    "put, pop = heap()"
   ]
  },
  {
   "cell_type": "code",
   "execution_count": 128,
   "metadata": {
    "collapsed": true
   },
   "outputs": [],
   "source": [
    "put(0, 35)"
   ]
  },
  {
   "cell_type": "code",
   "execution_count": 129,
   "metadata": {
    "collapsed": true
   },
   "outputs": [],
   "source": [
    "put(0, 28)"
   ]
  },
  {
   "cell_type": "code",
   "execution_count": 130,
   "metadata": {
    "collapsed": true
   },
   "outputs": [],
   "source": [
    "put(0, 78)"
   ]
  },
  {
   "cell_type": "code",
   "execution_count": 133,
   "metadata": {
    "collapsed": false
   },
   "outputs": [
    {
     "data": {
      "text/plain": [
       "0"
      ]
     },
     "execution_count": 133,
     "metadata": {},
     "output_type": "execute_result"
    }
   ],
   "source": [
    "pop()"
   ]
  },
  {
   "cell_type": "code",
   "execution_count": 134,
   "metadata": {
    "collapsed": true
   },
   "outputs": [],
   "source": [
    "import random"
   ]
  },
  {
   "cell_type": "code",
   "execution_count": 135,
   "metadata": {
    "collapsed": false
   },
   "outputs": [
    {
     "data": {
      "text/plain": [
       "4"
      ]
     },
     "execution_count": 135,
     "metadata": {},
     "output_type": "execute_result"
    }
   ],
   "source": [
    "random.randint(0, 100)"
   ]
  },
  {
   "cell_type": "code",
   "execution_count": 137,
   "metadata": {
    "collapsed": false
   },
   "outputs": [],
   "source": [
    "lst = [random.randint(0, 100) for x in range(20)]"
   ]
  },
  {
   "cell_type": "code",
   "execution_count": 138,
   "metadata": {
    "collapsed": false
   },
   "outputs": [
    {
     "data": {
      "text/plain": [
       "[85, 29, 90, 13, 75, 49, 97, 92, 15, 79, 63, 54, 20, 78, 53, 7, 18, 1, 92, 54]"
      ]
     },
     "execution_count": 138,
     "metadata": {},
     "output_type": "execute_result"
    }
   ],
   "source": [
    "lst"
   ]
  },
  {
   "cell_type": "code",
   "execution_count": 139,
   "metadata": {
    "collapsed": false
   },
   "outputs": [
    {
     "name": "stdout",
     "output_type": "stream",
     "text": [
      "97\n",
      "92\n",
      "92\n",
      "90\n",
      "85\n",
      "79\n",
      "78\n",
      "75\n",
      "63\n",
      "54\n",
      "54\n",
      "53\n",
      "49\n",
      "29\n",
      "28\n",
      "20\n",
      "18\n",
      "15\n",
      "13\n",
      "7\n"
     ]
    }
   ],
   "source": [
    "for x in lst:\n",
    "    put(0, x)\n",
    "\n",
    "for _ in lst:\n",
    "    print(pop()[1])"
   ]
  },
  {
   "cell_type": "code",
   "execution_count": null,
   "metadata": {
    "collapsed": true
   },
   "outputs": [],
   "source": []
  }
 ],
 "metadata": {
  "kernelspec": {
   "display_name": "Python 3",
   "language": "python",
   "name": "python3"
  },
  "language_info": {
   "codemirror_mode": {
    "name": "ipython",
    "version": 3
   },
   "file_extension": ".py",
   "mimetype": "text/x-python",
   "name": "python",
   "nbconvert_exporter": "python",
   "pygments_lexer": "ipython3",
   "version": "3.5.2"
  }
 },
 "nbformat": 4,
 "nbformat_minor": 2
}
